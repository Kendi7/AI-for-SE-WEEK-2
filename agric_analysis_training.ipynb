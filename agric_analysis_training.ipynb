{
 "cells": [
  {
   "cell_type": "code",
   "execution_count": 26,
   "id": "0dbbe308-3a8f-40ab-8440-58a02a35ccad",
   "metadata": {},
   "outputs": [
    {
     "name": "stdout",
     "output_type": "stream",
     "text": [
      "\n",
      "=======================================================\n",
      "\n",
      "1. Imports and Setup\n",
      "\n",
      "=======================================================\n"
     ]
    }
   ],
   "source": [
    "print(\"\\n\"+ \"=\"*55)\n",
    "print(\"\\n1. Imports and Setup\")\n",
    "print(\"\\n\"+ \"=\"*55)"
   ]
  },
  {
   "cell_type": "code",
   "execution_count": 1,
   "id": "b4aec454-4ef8-42bb-9f6c-35477c1a75af",
   "metadata": {},
   "outputs": [],
   "source": [
    "import pandas as pd\n",
    "import numpy as np\n",
    "import matplotlib.pyplot as plt\n",
    "import seaborn as sns\n",
    "from IPython.display import display\n",
    "\n",
    "from sklearn.preprocessing import OneHotEncoder, LabelEncoder\n",
    "\n",
    "from sklearn.model_selection import train_test_split\n",
    "from sklearn.preprocessing import StandardScaler\n",
    "from sklearn.preprocessing import RobustScaler\n",
    "\n",
    "from sklearn.linear_model import LinearRegression\n",
    "from sklearn.ensemble import RandomForestRegressor\n",
    "from sklearn.metrics import mean_squared_error, r2_score\n",
    "\n",
    "import warnings\n",
    "warnings.filterwarnings(\"ignore\")"
   ]
  },
  {
   "cell_type": "code",
   "execution_count": 25,
   "id": "3ce71d89-81fc-4bfd-b2a0-75410666e9ed",
   "metadata": {},
   "outputs": [
    {
     "name": "stdout",
     "output_type": "stream",
     "text": [
      "\n",
      "=======================================================\n",
      "\n",
      "2. Load and Explore Dataset\n",
      "\n",
      "=======================================================\n"
     ]
    }
   ],
   "source": [
    "print(\"\\n\"+ \"=\"*55)\n",
    "print(\"\\n2. Load and Explore Dataset\")\n",
    "print(\"\\n\"+ \"=\"*55)"
   ]
  },
  {
   "cell_type": "code",
   "execution_count": 2,
   "id": "223926df-0651-4566-aa28-2be861757367",
   "metadata": {},
   "outputs": [
    {
     "name": "stdout",
     "output_type": "stream",
     "text": [
      "✅ Data loaded successfully!\n"
     ]
    }
   ],
   "source": [
    "try:\n",
    "    df = pd.read_csv('/kaggle/input/agriculture-and-farming-dataset/agriculture_dataset.csv')\n",
    "    print(\"✅ Data loaded successfully!\")\n",
    "except FileNotFoundError:\n",
    "    print(\"❌ File not found. Please check the file path.\")\n",
    "except pd.errors.ParserError:\n",
    "    print(\"❌ Error parsing the CSV file. Please check the file format.\")\n",
    "except Exception as e:\n",
    "    print(f\"❌ An unexpected error occurred: {e}\")"
   ]
  },
  {
   "cell_type": "code",
   "execution_count": 7,
   "id": "ebd04621-1e16-4805-b85c-7a5c5ad29de0",
   "metadata": {},
   "outputs": [
    {
     "name": "stdout",
     "output_type": "stream",
     "text": [
      "\n",
      "=======================================================\n",
      "\n",
      "Shape of the dataset: (50, 10)\n",
      "\n",
      "=======================================================\n",
      "\n",
      "Over view of the data: First 5 columns\n",
      "\n",
      "=======================================================\n"
     ]
    },
    {
     "data": {
      "text/html": [
       "<div>\n",
       "<style scoped>\n",
       "    .dataframe tbody tr th:only-of-type {\n",
       "        vertical-align: middle;\n",
       "    }\n",
       "\n",
       "    .dataframe tbody tr th {\n",
       "        vertical-align: top;\n",
       "    }\n",
       "\n",
       "    .dataframe thead th {\n",
       "        text-align: right;\n",
       "    }\n",
       "</style>\n",
       "<table border=\"1\" class=\"dataframe\">\n",
       "  <thead>\n",
       "    <tr style=\"text-align: right;\">\n",
       "      <th></th>\n",
       "      <th>Farm_ID</th>\n",
       "      <th>Crop_Type</th>\n",
       "      <th>Farm_Area(acres)</th>\n",
       "      <th>Irrigation_Type</th>\n",
       "      <th>Fertilizer_Used(tons)</th>\n",
       "      <th>Pesticide_Used(kg)</th>\n",
       "      <th>Yield(tons)</th>\n",
       "      <th>Soil_Type</th>\n",
       "      <th>Season</th>\n",
       "      <th>Water_Usage(cubic meters)</th>\n",
       "    </tr>\n",
       "  </thead>\n",
       "  <tbody>\n",
       "    <tr>\n",
       "      <th>0</th>\n",
       "      <td>F001</td>\n",
       "      <td>Cotton</td>\n",
       "      <td>329.40</td>\n",
       "      <td>Sprinkler</td>\n",
       "      <td>8.14</td>\n",
       "      <td>2.21</td>\n",
       "      <td>14.44</td>\n",
       "      <td>Loamy</td>\n",
       "      <td>Kharif</td>\n",
       "      <td>76648.20</td>\n",
       "    </tr>\n",
       "    <tr>\n",
       "      <th>1</th>\n",
       "      <td>F002</td>\n",
       "      <td>Carrot</td>\n",
       "      <td>18.67</td>\n",
       "      <td>Manual</td>\n",
       "      <td>4.77</td>\n",
       "      <td>4.36</td>\n",
       "      <td>42.91</td>\n",
       "      <td>Peaty</td>\n",
       "      <td>Kharif</td>\n",
       "      <td>68725.54</td>\n",
       "    </tr>\n",
       "    <tr>\n",
       "      <th>2</th>\n",
       "      <td>F003</td>\n",
       "      <td>Sugarcane</td>\n",
       "      <td>306.03</td>\n",
       "      <td>Flood</td>\n",
       "      <td>2.91</td>\n",
       "      <td>0.56</td>\n",
       "      <td>33.44</td>\n",
       "      <td>Silty</td>\n",
       "      <td>Kharif</td>\n",
       "      <td>75538.56</td>\n",
       "    </tr>\n",
       "    <tr>\n",
       "      <th>3</th>\n",
       "      <td>F004</td>\n",
       "      <td>Tomato</td>\n",
       "      <td>380.21</td>\n",
       "      <td>Rain-fed</td>\n",
       "      <td>3.32</td>\n",
       "      <td>4.35</td>\n",
       "      <td>34.08</td>\n",
       "      <td>Silty</td>\n",
       "      <td>Zaid</td>\n",
       "      <td>45401.23</td>\n",
       "    </tr>\n",
       "    <tr>\n",
       "      <th>4</th>\n",
       "      <td>F005</td>\n",
       "      <td>Tomato</td>\n",
       "      <td>135.56</td>\n",
       "      <td>Sprinkler</td>\n",
       "      <td>8.33</td>\n",
       "      <td>4.48</td>\n",
       "      <td>43.28</td>\n",
       "      <td>Clay</td>\n",
       "      <td>Zaid</td>\n",
       "      <td>93718.69</td>\n",
       "    </tr>\n",
       "  </tbody>\n",
       "</table>\n",
       "</div>"
      ],
      "text/plain": [
       "  Farm_ID  Crop_Type  Farm_Area(acres) Irrigation_Type  Fertilizer_Used(tons)  \\\n",
       "0    F001     Cotton            329.40       Sprinkler                   8.14   \n",
       "1    F002     Carrot             18.67          Manual                   4.77   \n",
       "2    F003  Sugarcane            306.03           Flood                   2.91   \n",
       "3    F004     Tomato            380.21        Rain-fed                   3.32   \n",
       "4    F005     Tomato            135.56       Sprinkler                   8.33   \n",
       "\n",
       "   Pesticide_Used(kg)  Yield(tons) Soil_Type  Season  \\\n",
       "0                2.21        14.44     Loamy  Kharif   \n",
       "1                4.36        42.91     Peaty  Kharif   \n",
       "2                0.56        33.44     Silty  Kharif   \n",
       "3                4.35        34.08     Silty    Zaid   \n",
       "4                4.48        43.28      Clay    Zaid   \n",
       "\n",
       "   Water_Usage(cubic meters)  \n",
       "0                   76648.20  \n",
       "1                   68725.54  \n",
       "2                   75538.56  \n",
       "3                   45401.23  \n",
       "4                   93718.69  "
      ]
     },
     "metadata": {},
     "output_type": "display_data"
    },
    {
     "name": "stdout",
     "output_type": "stream",
     "text": [
      "\n",
      "=======================================================\n",
      "\n",
      "Dataset Information:\n",
      "\n",
      "=======================================================\n",
      "<class 'pandas.core.frame.DataFrame'>\n",
      "RangeIndex: 50 entries, 0 to 49\n",
      "Data columns (total 10 columns):\n",
      " #   Column                     Non-Null Count  Dtype  \n",
      "---  ------                     --------------  -----  \n",
      " 0   Farm_ID                    50 non-null     object \n",
      " 1   Crop_Type                  50 non-null     object \n",
      " 2   Farm_Area(acres)           50 non-null     float64\n",
      " 3   Irrigation_Type            50 non-null     object \n",
      " 4   Fertilizer_Used(tons)      50 non-null     float64\n",
      " 5   Pesticide_Used(kg)         50 non-null     float64\n",
      " 6   Yield(tons)                50 non-null     float64\n",
      " 7   Soil_Type                  50 non-null     object \n",
      " 8   Season                     50 non-null     object \n",
      " 9   Water_Usage(cubic meters)  50 non-null     float64\n",
      "dtypes: float64(5), object(5)\n",
      "memory usage: 4.0+ KB\n",
      "None\n",
      "\n",
      "=======================================================\n",
      "\n",
      "Statistical Summary:\n",
      "\n",
      "=======================================================\n"
     ]
    },
    {
     "data": {
      "text/html": [
       "<div>\n",
       "<style scoped>\n",
       "    .dataframe tbody tr th:only-of-type {\n",
       "        vertical-align: middle;\n",
       "    }\n",
       "\n",
       "    .dataframe tbody tr th {\n",
       "        vertical-align: top;\n",
       "    }\n",
       "\n",
       "    .dataframe thead th {\n",
       "        text-align: right;\n",
       "    }\n",
       "</style>\n",
       "<table border=\"1\" class=\"dataframe\">\n",
       "  <thead>\n",
       "    <tr style=\"text-align: right;\">\n",
       "      <th></th>\n",
       "      <th>count</th>\n",
       "      <th>mean</th>\n",
       "      <th>std</th>\n",
       "      <th>min</th>\n",
       "      <th>25%</th>\n",
       "      <th>50%</th>\n",
       "      <th>75%</th>\n",
       "      <th>max</th>\n",
       "    </tr>\n",
       "  </thead>\n",
       "  <tbody>\n",
       "    <tr>\n",
       "      <th>Farm_Area(acres)</th>\n",
       "      <td>50.0</td>\n",
       "      <td>254.9638</td>\n",
       "      <td>139.417782</td>\n",
       "      <td>12.50</td>\n",
       "      <td>135.7100</td>\n",
       "      <td>281.980</td>\n",
       "      <td>368.1075</td>\n",
       "      <td>483.88</td>\n",
       "    </tr>\n",
       "    <tr>\n",
       "      <th>Fertilizer_Used(tons)</th>\n",
       "      <td>50.0</td>\n",
       "      <td>4.9054</td>\n",
       "      <td>2.732689</td>\n",
       "      <td>0.50</td>\n",
       "      <td>2.4375</td>\n",
       "      <td>5.045</td>\n",
       "      <td>6.8850</td>\n",
       "      <td>9.96</td>\n",
       "    </tr>\n",
       "    <tr>\n",
       "      <th>Pesticide_Used(kg)</th>\n",
       "      <td>50.0</td>\n",
       "      <td>2.3980</td>\n",
       "      <td>1.438613</td>\n",
       "      <td>0.14</td>\n",
       "      <td>0.9725</td>\n",
       "      <td>2.330</td>\n",
       "      <td>3.4175</td>\n",
       "      <td>4.99</td>\n",
       "    </tr>\n",
       "    <tr>\n",
       "      <th>Yield(tons)</th>\n",
       "      <td>50.0</td>\n",
       "      <td>27.0592</td>\n",
       "      <td>13.345789</td>\n",
       "      <td>3.86</td>\n",
       "      <td>16.1900</td>\n",
       "      <td>28.970</td>\n",
       "      <td>37.8600</td>\n",
       "      <td>48.02</td>\n",
       "    </tr>\n",
       "    <tr>\n",
       "      <th>Water_Usage(cubic meters)</th>\n",
       "      <td>50.0</td>\n",
       "      <td>56724.2956</td>\n",
       "      <td>27264.992053</td>\n",
       "      <td>5869.75</td>\n",
       "      <td>37818.1525</td>\n",
       "      <td>54097.075</td>\n",
       "      <td>82240.0325</td>\n",
       "      <td>94754.73</td>\n",
       "    </tr>\n",
       "  </tbody>\n",
       "</table>\n",
       "</div>"
      ],
      "text/plain": [
       "                           count        mean           std      min  \\\n",
       "Farm_Area(acres)            50.0    254.9638    139.417782    12.50   \n",
       "Fertilizer_Used(tons)       50.0      4.9054      2.732689     0.50   \n",
       "Pesticide_Used(kg)          50.0      2.3980      1.438613     0.14   \n",
       "Yield(tons)                 50.0     27.0592     13.345789     3.86   \n",
       "Water_Usage(cubic meters)   50.0  56724.2956  27264.992053  5869.75   \n",
       "\n",
       "                                  25%        50%         75%       max  \n",
       "Farm_Area(acres)             135.7100    281.980    368.1075    483.88  \n",
       "Fertilizer_Used(tons)          2.4375      5.045      6.8850      9.96  \n",
       "Pesticide_Used(kg)             0.9725      2.330      3.4175      4.99  \n",
       "Yield(tons)                   16.1900     28.970     37.8600     48.02  \n",
       "Water_Usage(cubic meters)  37818.1525  54097.075  82240.0325  94754.73  "
      ]
     },
     "metadata": {},
     "output_type": "display_data"
    }
   ],
   "source": [
    "# Display basic information about the dataset\n",
    "print(\"\\n\"+ \"=\"*55)\n",
    "print(\"\\nShape of the dataset:\", df.shape)\n",
    "print(\"\\n\"+ \"=\"*55)\n",
    "print(\"\\nOver view of the data: First 5 columns\")\n",
    "print(\"\\n\"+ \"=\"*55)\n",
    "display(df.head())\n",
    "print(\"\\n\"+ \"=\"*55)\n",
    "print(\"\\nDataset Information:\")\n",
    "print(\"\\n\"+ \"=\"*55)\n",
    "print(df.info())\n",
    "print(\"\\n\"+ \"=\"*55)\n",
    "print(\"\\nStatistical Summary:\")\n",
    "print(\"\\n\"+ \"=\"*55)\n",
    "display(df.describe().T)"
   ]
  },
  {
   "cell_type": "code",
   "execution_count": 13,
   "id": "aff6e4e4-6d9a-4da0-84f9-3debbee1e3d8",
   "metadata": {},
   "outputs": [
    {
     "name": "stdout",
     "output_type": "stream",
     "text": [
      "\n",
      "Missing values: 0\n",
      "\n",
      "Duplicated values: 0\n",
      "\n",
      "\n"
     ]
    }
   ],
   "source": [
    "# Check for missing and duplicated values\n",
    "print(f'\\nMissing values: {df.isna().sum().sum()}')\n",
    "print(f'\\nDuplicated values: {df.duplicated().sum()}')\n",
    "print(\"\\n\")"
   ]
  },
  {
   "cell_type": "code",
   "execution_count": 15,
   "id": "b0dc15fc-334d-433e-b568-695543c43572",
   "metadata": {},
   "outputs": [
    {
     "name": "stdout",
     "output_type": "stream",
     "text": [
      "\n",
      "Unique Values in Each Column:\n",
      "Farm_ID                      50\n",
      "Crop_Type                    10\n",
      "Farm_Area(acres)             50\n",
      "Irrigation_Type               5\n",
      "Fertilizer_Used(tons)        49\n",
      "Pesticide_Used(kg)           46\n",
      "Yield(tons)                  50\n",
      "Soil_Type                     5\n",
      "Season                        3\n",
      "Water_Usage(cubic meters)    50\n",
      "dtype: int64\n",
      "\n",
      "\n"
     ]
    }
   ],
   "source": [
    "# Display the number of unique values in each column\n",
    "print(\"\\nUnique Values in Each Column:\")\n",
    "print(df.nunique())\n",
    "print(\"\\n\")"
   ]
  },
  {
   "cell_type": "code",
   "execution_count": 14,
   "id": "b60a3dfa-b3cf-4786-88a7-2a7060e1e982",
   "metadata": {},
   "outputs": [
    {
     "name": "stdout",
     "output_type": "stream",
     "text": [
      "\n",
      "Numerical Columns: ['Farm_Area(acres)', 'Fertilizer_Used(tons)', 'Pesticide_Used(kg)', 'Yield(tons)', 'Water_Usage(cubic meters)']\n",
      "\n",
      "Categorical Columns: ['Farm_ID', 'Crop_Type', 'Irrigation_Type', 'Soil_Type', 'Season']\n",
      "\n",
      "\n"
     ]
    }
   ],
   "source": [
    "# Separate numerical and categorical columns\n",
    "numerical_columns = df.select_dtypes(include=['int64', 'float64']).columns.tolist()\n",
    "non_numerical_columns = df.select_dtypes(include=['object']).columns.tolist()\n",
    "\n",
    "# Display the lists of numerical and categorical columns\n",
    "print(\"\\nNumerical Columns:\", numerical_columns)\n",
    "print(\"\\nCategorical Columns:\", non_numerical_columns)\n",
    "print(\"\\n\")"
   ]
  },
  {
   "cell_type": "code",
   "execution_count": 23,
   "id": "90fb922d-a52a-4034-a217-f5d6eac3f517",
   "metadata": {},
   "outputs": [
    {
     "name": "stdout",
     "output_type": "stream",
     "text": [
      "\n",
      "=======================================================\n",
      "\n",
      "3. Unique Value Exploration\n",
      "\n",
      "=======================================================\n"
     ]
    }
   ],
   "source": [
    "print(\"\\n\"+ \"=\"*55)\n",
    "print(\"\\n3. Unique Value Exploration\")\n",
    "print(\"\\n\"+ \"=\"*55)"
   ]
  },
  {
   "cell_type": "code",
   "execution_count": 16,
   "id": "cde36b6b-c6e6-4291-8ebc-57f6484e0cae",
   "metadata": {},
   "outputs": [
    {
     "name": "stdout",
     "output_type": "stream",
     "text": [
      "\n",
      "Column: Farm_ID\n",
      "Unique Values: ['F001' 'F002' 'F003' 'F004' 'F005' 'F006' 'F007' 'F008' 'F009' 'F010'\n",
      " 'F011' 'F012' 'F013' 'F014' 'F015' 'F016' 'F017' 'F018' 'F019' 'F020'\n",
      " 'F021' 'F022' 'F023' 'F024' 'F025' 'F026' 'F027' 'F028' 'F029' 'F030'\n",
      " 'F031' 'F032' 'F033' 'F034' 'F035' 'F036' 'F037' 'F038' 'F039' 'F040'\n",
      " 'F041' 'F042' 'F043' 'F044' 'F045' 'F046' 'F047' 'F048' 'F049' 'F050']\n",
      "\n",
      "Column: Crop_Type\n",
      "Unique Values: ['Cotton' 'Carrot' 'Sugarcane' 'Tomato' 'Soybean' 'Rice' 'Maize' 'Wheat'\n",
      " 'Barley' 'Potato']\n",
      "\n",
      "Column: Irrigation_Type\n",
      "Unique Values: ['Sprinkler' 'Manual' 'Flood' 'Rain-fed' 'Drip']\n",
      "\n",
      "Column: Soil_Type\n",
      "Unique Values: ['Loamy' 'Peaty' 'Silty' 'Clay' 'Sandy']\n",
      "\n",
      "Column: Season\n",
      "Unique Values: ['Kharif' 'Zaid' 'Rabi']\n"
     ]
    }
   ],
   "source": [
    "# Display unique values for each categorical column\n",
    "for col in non_numerical_columns:\n",
    "    print(f\"\\nColumn: {col}\")\n",
    "    print(f\"Unique Values: {df[col].unique()}\")"
   ]
  },
  {
   "cell_type": "code",
   "execution_count": 20,
   "id": "806060dd-b768-4e7b-8c87-8c03629aa83c",
   "metadata": {},
   "outputs": [
    {
     "name": "stdout",
     "output_type": "stream",
     "text": [
      "\n",
      "\n",
      "['Monsoon' 'Summer' 'Winter']\n",
      "\n",
      "\n"
     ]
    }
   ],
   "source": [
    "df['Season'] = df['Season'].replace({\n",
    "    \"Kharif\": \"Monsoon\",\n",
    "    \"Rabi\": \"Winter\",\n",
    "    \"Zaid\": \"Summer\"\n",
    "})\n",
    "print(\"\\n\")\n",
    "print(df['Season'].unique())\n",
    "print(\"\\n\")"
   ]
  },
  {
   "cell_type": "code",
   "execution_count": 22,
   "id": "a154ac78-6e11-4a37-8cda-b66336fbae34",
   "metadata": {},
   "outputs": [
    {
     "name": "stdout",
     "output_type": "stream",
     "text": [
      "\n",
      "=======================================================\n",
      "\n",
      "4. Exploratory Data Analysis (EDA)\n",
      "\n",
      "=======================================================\n"
     ]
    }
   ],
   "source": [
    "print(\"\\n\"+ \"=\"*55)\n",
    "print(\"\\n4. Exploratory Data Analysis (EDA)\")\n",
    "print(\"\\n\"+ \"=\"*55)"
   ]
  },
  {
   "cell_type": "code",
   "execution_count": null,
   "id": "7ed48de5-6fdc-411c-9107-3d51615919d1",
   "metadata": {},
   "outputs": [],
   "source": []
  }
 ],
 "metadata": {
  "kernelspec": {
   "display_name": "Python 3 (ipykernel)",
   "language": "python",
   "name": "python3"
  },
  "language_info": {
   "codemirror_mode": {
    "name": "ipython",
    "version": 3
   },
   "file_extension": ".py",
   "mimetype": "text/x-python",
   "name": "python",
   "nbconvert_exporter": "python",
   "pygments_lexer": "ipython3",
   "version": "3.11.9"
  }
 },
 "nbformat": 4,
 "nbformat_minor": 5
}
